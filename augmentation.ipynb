{
 "cells": [
  {
   "cell_type": "code",
   "execution_count": 1,
   "metadata": {},
   "outputs": [],
   "source": [
    "# Create variuos size CSVs using pandas\n",
    "import pandas as pd\n",
    "\n",
    "# Read full csv\n",
    "df = pd.read_csv(\"augmented.csv\")\n",
    "\n",
    "# Create csv of ~1GB\n",
    "df_1GB = df.head(5880000)\n",
    "df_1GB.to_csv(\"augmented_1GB.csv\", index=False)\n",
    "\n",
    "# Creat csv of ~2GB \n",
    "df_2GB = df.head(11760000)\n",
    "df_2GB.to_csv(\"augmented_2GB.csv\", index=False)"
   ]
  }
 ],
 "metadata": {
  "kernelspec": {
   "display_name": "Python 3",
   "language": "python",
   "name": "python3"
  },
  "language_info": {
   "codemirror_mode": {
    "name": "ipython",
    "version": 3
   },
   "file_extension": ".py",
   "mimetype": "text/x-python",
   "name": "python",
   "nbconvert_exporter": "python",
   "pygments_lexer": "ipython3",
   "version": "3.11.9"
  }
 },
 "nbformat": 4,
 "nbformat_minor": 2
}
