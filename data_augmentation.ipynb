{
 "cells": [
  {
   "cell_type": "code",
   "execution_count": null,
   "id": "f25fc695-6a0d-4122-811e-1eb47405ebce",
   "metadata": {},
   "outputs": [],
   "source": [
    "#code to increase dataset size by duplication\n",
    "original_file_path = \"hdfs://192.168.2.92:9000//spark-data/MillionSongSubset.csv\"\n",
    "duplicated_file_path = \"augmented.csv\"\n",
    "\n",
    "# Open the original CSV file for reading\n",
    "with open(original_file_path, 'r') as original_file:\n",
    "    # Read the content of the original CSV file\n",
    "    content = original_file.read()\n",
    "\n",
    "# Open the duplicated CSV file for writing\n",
    "with open(duplicated_file_path, 'w') as duplicated_file:\n",
    "   \n",
    "    for _ in range(1650):  \n",
    "        duplicated_file.write(content)"
   ]
  }
 ],
 "metadata": {
  "kernelspec": {
   "display_name": "Python 3 (ipykernel)",
   "language": "python",
   "name": "python3"
  },
  "language_info": {
   "codemirror_mode": {
    "name": "ipython",
    "version": 3
   },
   "file_extension": ".py",
   "mimetype": "text/x-python",
   "name": "python",
   "nbconvert_exporter": "python",
   "pygments_lexer": "ipython3",
   "version": "3.10.12"
  }
 },
 "nbformat": 4,
 "nbformat_minor": 5
}
