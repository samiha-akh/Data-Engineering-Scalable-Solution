{
 "cells": [
  {
   "cell_type": "code",
   "execution_count": 1,
   "id": "2971fa9a-8746-435b-b501-5f9b0fe0c05e",
   "metadata": {},
   "outputs": [
    {
     "name": "stderr",
     "output_type": "stream",
     "text": [
      "Setting default log level to \"WARN\".\n",
      "To adjust logging level use sc.setLogLevel(newLevel). For SparkR, use setLogLevel(newLevel).\n",
      "25/03/18 12:11:43 WARN NativeCodeLoader: Unable to load native-hadoop library for your platform... using builtin-java classes where applicable\n",
      "25/03/18 12:11:45 WARN Utils: spark.executor.instances less than spark.dynamicAllocation.minExecutors is invalid, ignoring its setting, please update your configs.\n"
     ]
    }
   ],
   "source": [
    "from pyspark.sql import SparkSession\n",
    "from pyspark.sql.functions import col, count, when, avg\n",
    "import matplotlib.pyplot as plt\n",
    "import time\n",
    "\n",
    "spark_session = SparkSession \\\n",
    "    .builder \\\n",
    "    .master(\"spark://192.168.2.156:7077\") \\\n",
    "    .appName(\"ProjectGR25\") \\\n",
    "    .config(\"spark.eventLog.enabled\", \"false\") \\\n",
    "    .config(\"spark.dynamicAllocation.enabled\", True) \\\n",
    "    .config(\"spark.dynamicAllocation.minExecutors\", 1) \\\n",
    "    .config(\"spark.dynamicAllocation.maxExecutors\", 1) \\\n",
    "    .config(\"spark.dynamicAllocation.initialExecutors\", 1) \\\n",
    "    .config(\"spark.dynamicAllocation.shuffleTracking.enabled\", True) \\\n",
    "    .config(\"spark.shuffle.service.enabled\", False) \\\n",
    "    .config(\"spark.dynamicAllocation.executorIdleTimeout\", \"30s\") \\\n",
    "    .config(\"spark.executor.cores\", 6) \\\n",
    "    .config(\"spark.driver.cores\", 2) \\\n",
    "    .config(\"spark.driver.port\", 9999) \\\n",
    "    .config(\"spark.blockManager.port\", 10005) \\\n",
    "    .getOrCreate()\n",
    "\n",
    "spark_context = spark_session.sparkContext\n",
    "spark_context.setLogLevel(\"ERROR\")\n"
   ]
  },
  {
   "cell_type": "code",
   "execution_count": 2,
   "id": "83efb467-d39e-43d9-be99-2140d2609f9a",
   "metadata": {},
   "outputs": [
    {
     "name": "stderr",
     "output_type": "stream",
     "text": [
      "                                                                                "
     ]
    },
    {
     "name": "stdout",
     "output_type": "stream",
     "text": [
      "Time read:22.05821681022644\n",
      "+--------------------+------------------+--------------------+--------------------+--------------------+-------+-------------------+---------+-------+---+----+--------+------------+------+----+\n",
      "|           File Path|           Song ID|               Title|              Artist|             Release|  Genre|    Song Hotttnesss| Duration|  Tempo|Key|Mode|Loudness|Danceability|Energy|Year|\n",
      "+--------------------+------------------+--------------------+--------------------+--------------------+-------+-------------------+---------+-------+---+----+--------+------------+------+----+\n",
      "|MillionSongSubset...|SOBUDOC12A6D4F8AC2|After All The Lov...|               Alias|               Alias|Unknown|0.38293509007501925|256.67873|120.093|  0|   1| -10.223|         0.0|   0.0|   0|\n",
      "|MillionSongSubset...|SOLMCFH12A58A7FACE|   Under The Weather|         KT Tunstall|Eye To The Telescope|Unknown| 0.6944535460616664| 216.5024|142.121|  7|   1|  -9.911|         0.0|   0.0|2004|\n",
      "|MillionSongSubset...|SOOUBMT12A8C13DB6D|                90er|          Headliners|  Das Album zum Film|Unknown|               NULL|347.79383|170.041|  8|   1|  -4.281|         0.0|   0.0|2006|\n",
      "|MillionSongSubset...|SOWDXXY12A8C133818|           Free (lp)|  Big Audio Dynamite|Planet Bad Greate...|Unknown|0.46054128135865785|209.97179|122.077|  2|   1| -12.019|         0.0|   0.0|   0|\n",
      "|MillionSongSubset...|SOUXUOP12A8C14318F|         Say Goodbye|       Barry Manilow|Here At The Mayfl...|Unknown|0.23962909777363708|247.24853| 120.08|  4|   0|  -7.518|         0.0|   0.0|   0|\n",
      "|MillionSongSubset...|SOHVKVP12A6D4F827A|           Más Y Más|                Mazz|           15 Exitos|Unknown|               NULL|251.61098|106.847|  0|   1| -13.327|         0.0|   0.0|   0|\n",
      "|MillionSongSubset...|SOBMAUD12A6D4F9181|          Itinerario| Clementina De Jesus|Nova Bis-Clementi...|Unknown|               NULL|181.39383|212.401|  4|   0|  -9.735|         0.0|   0.0|   0|\n",
      "|MillionSongSubset...|SOUZIIN12AB017FB85|      Stephanie Says|The Velvet Underg...|The Velvet Underg...|Unknown| 0.7828689986809066|170.89261| 112.48|  0|   1| -15.591|         0.0|   0.0|1985|\n",
      "|MillionSongSubset...|SOXJPKH12A8C134149|Jahuu_ Gandiva la...|        Sabda Brahma|         Dham Rockas|Unknown|               NULL|349.51791|119.987| 10|   0|  -9.651|         0.0|   0.0|   0|\n",
      "|MillionSongSubset...|SOIWHMK12AB017D7E0|      Fleur De Paris|  Jean Marc Thibault|             Chantez|Unknown|               NULL|138.94485|136.577|  0|   1| -14.406|         0.0|   0.0|   0|\n",
      "|MillionSongSubset...|SOZGCTW12A6310E84F|  Music And Politics|The Disposable He...|Hypocrisy Is The ...|Unknown| 0.5089846081034836|241.52771|108.616|  2|   1| -18.454|         0.0|   0.0|1992|\n",
      "|MillionSongSubset...|SOPJOQM12A6310F137|Every You Every M...|             Placebo|  Every You Every Me|Unknown|               NULL|237.94893|136.957| 10|   1|  -6.519|         0.0|   0.0|1999|\n",
      "|MillionSongSubset...|SOBIPFA12A8C136C56|                Indo|              Studio|          West Coast|Unknown| 0.6434705772425585|568.99873|100.648|  7|   1| -18.786|         0.0|   0.0|   0|\n",
      "|MillionSongSubset...|SOYJVCQ12A81C22C90|             Credits|          Pete Miser|       What It Be...|Unknown|               NULL| 32.96608| 95.761|  2|   1|  -8.236|         0.0|   0.0|   0|\n",
      "|MillionSongSubset...|SOOAIOT12A6D4FE412|  You\u0019ll Rue The Day|        Spade Cooley|King Of Western S...|Unknown|               NULL|181.31546|102.846|  9|   1| -26.646|         0.0|   0.0|   0|\n",
      "|MillionSongSubset...|SOCMIGC12A6702090E|    Celluloid Heroes|Bon Jovi / Ray Da...|       Misunderstood|Unknown|               NULL|336.84853|130.281|  6|   1|  -5.158|         0.0|   0.0|2002|\n",
      "|MillionSongSubset...|SOLCUUN12AB0187AE7|Wives ( LP Version )|          Bill Cosby|             Revenge|Unknown|                0.0|157.43955|109.516|  5|   1| -13.915|         0.0|   0.0|1967|\n",
      "|MillionSongSubset...|SOTOSFD12AB017A7E1|        Bed Of Roses|             Warrant|          Cherry Pie|Unknown| 0.6021943107797928|244.08771|123.245|  7|   1|  -6.228|         0.0|   0.0|   0|\n",
      "|MillionSongSubset...|SOWBMKR12AB0189094|        Losing track| You Should Go Ahead|  Emotional cocktail|Unknown|               NULL|234.78812|143.513|  9|   1|  -3.137|         0.0|   0.0|   0|\n",
      "|MillionSongSubset...|SOIFTHQ12AF72A4829|         Fly Talkin'|           Lil Wayne|         500 Degreez|Unknown| 0.5726023283923434| 98.16771|123.881|  1|   1|  -3.887|         0.0|   0.0|   0|\n",
      "+--------------------+------------------+--------------------+--------------------+--------------------+-------+-------------------+---------+-------+---+----+--------+------------+------+----+\n",
      "only showing top 20 rows\n",
      "\n",
      "Time read:0.49152469635009766\n"
     ]
    }
   ],
   "source": [
    "# Read CSV from hdfs and compute time\n",
    "import time\n",
    "start = time.time()\n",
    "df = spark_session.read.csv(\"hdfs://192.168.2.92:9000/spark-data/.csv\", header=True, inferSchema=True)\n",
    "final = time.time() - start\n",
    "print(f\"Time read:{final}\")\n",
    "\n",
    "# Print Data Frame and compute time\n",
    "start = time.time()\n",
    "df.show()\n",
    "final = time.time() - start\n",
    "print(f\"Time read:{final}\")"
   ]
  },
  {
   "cell_type": "code",
   "execution_count": 3,
   "id": "22b469f6-b3a4-4a01-8803-f18617ffd218",
   "metadata": {},
   "outputs": [
    {
     "name": "stderr",
     "output_type": "stream",
     "text": [
      "                                                                                "
     ]
    },
    {
     "name": "stdout",
     "output_type": "stream",
     "text": [
      "+---------+-------+-----+------+-------+-----+---------------+--------+-----+----+----+--------+------------+------+----+\n",
      "|File Path|Song ID|Title|Artist|Release|Genre|Song Hotttnesss|Duration|Tempo| Key|Mode|Loudness|Danceability|Energy|Year|\n",
      "+---------+-------+-----+------+-------+-----+---------------+--------+-----+----+----+--------+------------+------+----+\n",
      "|        0|      0| 1267|     1|      1|    1|        5515866|    1268| 1268|1268|1268|    1268|        1268|  1268|1268|\n",
      "+---------+-------+-----+------+-------+-----+---------------+--------+-----+----+----+--------+------------+------+----+\n",
      "\n"
     ]
    },
    {
     "name": "stderr",
     "output_type": "stream",
     "text": [
      "                                                                                "
     ]
    },
    {
     "name": "stdout",
     "output_type": "stream",
     "text": [
      "12671360\n"
     ]
    },
    {
     "name": "stderr",
     "output_type": "stream",
     "text": [
      "[Stage 9:=====================================================>   (16 + 1) / 17]"
     ]
    },
    {
     "name": "stdout",
     "output_type": "stream",
     "text": [
      "12671360\n"
     ]
    },
    {
     "name": "stderr",
     "output_type": "stream",
     "text": [
      "                                                                                "
     ]
    },
    {
     "name": "stdout",
     "output_type": "stream",
     "text": [
      "6741155\n"
     ]
    },
    {
     "name": "stderr",
     "output_type": "stream",
     "text": [
      "[Stage 15:====================================================>   (16 + 1) / 17]"
     ]
    },
    {
     "name": "stdout",
     "output_type": "stream",
     "text": [
      "12671360\n",
      "Time read:42.49562668800354\n"
     ]
    },
    {
     "name": "stderr",
     "output_type": "stream",
     "text": [
      "                                                                                "
     ]
    }
   ],
   "source": [
    "# start time\n",
    "start = time.time()\n",
    "\n",
    "# Show missing values\n",
    "missing_values = df.select([count(when(col(c).isNull(), c)).alias(c) for c in df.columns])\n",
    "missing_values.show()\n",
    "\n",
    "# Danceability 0 for the whole dataset\n",
    "print(df.filter(df.Danceability == 0).count())\n",
    "\n",
    "# Energy 0 for the whole dataset\n",
    "print(df.filter(df.Energy == 0).count())\n",
    "\n",
    "# Some of the years are missing\n",
    "print(df.filter(df.Year == 0).count())\n",
    "\n",
    "# Genre is Unknown for the whole dataset\n",
    "print(df.filter(df.Genre == \"Unknown\").count())\n",
    "\n",
    "# Final time\n",
    "final = time.time() - start\n",
    "print(f\"Time read:{final}\")"
   ]
  },
  {
   "cell_type": "code",
   "execution_count": 4,
   "id": "c3ed8138-c558-43d2-8eb3-c6a3b3d1af8f",
   "metadata": {},
   "outputs": [
    {
     "name": "stderr",
     "output_type": "stream",
     "text": [
      "[Stage 18:>                                                         (0 + 1) / 1]"
     ]
    },
    {
     "name": "stdout",
     "output_type": "stream",
     "text": [
      "+--------------------+------------------+--------------------+------------------+--------------------+-------------------+---------+-------+---+----+--------+----+\n",
      "|           File Path|           Song ID|               Title|            Artist|             Release|    Song Hotttnesss| Duration|  Tempo|Key|Mode|Loudness|Year|\n",
      "+--------------------+------------------+--------------------+------------------+--------------------+-------------------+---------+-------+---+----+--------+----+\n",
      "|MillionSongSubset...|SOBUDOC12A6D4F8AC2|After All The Lov...|             Alias|               Alias|0.38293509007501925|256.67873|120.093|  0|   1| -10.223|   0|\n",
      "|MillionSongSubset...|SOLMCFH12A58A7FACE|   Under The Weather|       KT Tunstall|Eye To The Telescope| 0.6944535460616664| 216.5024|142.121|  7|   1|  -9.911|2004|\n",
      "|MillionSongSubset...|SOOUBMT12A8C13DB6D|                90er|        Headliners|  Das Album zum Film|               NULL|347.79383|170.041|  8|   1|  -4.281|2006|\n",
      "|MillionSongSubset...|SOWDXXY12A8C133818|           Free (lp)|Big Audio Dynamite|Planet Bad Greate...|0.46054128135865785|209.97179|122.077|  2|   1| -12.019|   0|\n",
      "|MillionSongSubset...|SOUXUOP12A8C14318F|         Say Goodbye|     Barry Manilow|Here At The Mayfl...|0.23962909777363708|247.24853| 120.08|  4|   0|  -7.518|   0|\n",
      "+--------------------+------------------+--------------------+------------------+--------------------+-------------------+---------+-------+---+----+--------+----+\n",
      "only showing top 5 rows\n",
      "\n"
     ]
    },
    {
     "name": "stderr",
     "output_type": "stream",
     "text": [
      "                                                                                "
     ]
    }
   ],
   "source": [
    "# Drop rows that do not give any information \n",
    "df = df.drop(\"Genre\", \"Danceability\", \"Energy\")\n",
    "df.show(5)"
   ]
  },
  {
   "cell_type": "code",
   "execution_count": 1,
   "id": "b00d6bb6-d95d-4a79-850b-b61c52d7635c",
   "metadata": {},
   "outputs": [
    {
     "ename": "NameError",
     "evalue": "name 'time' is not defined",
     "output_type": "error",
     "traceback": [
      "\u001b[0;31m---------------------------------------------------------------------------\u001b[0m",
      "\u001b[0;31mNameError\u001b[0m                                 Traceback (most recent call last)",
      "Cell \u001b[0;32mIn[1], line 2\u001b[0m\n\u001b[1;32m      1\u001b[0m \u001b[38;5;66;03m# Plot and compute time\u001b[39;00m\n\u001b[0;32m----> 2\u001b[0m start \u001b[38;5;241m=\u001b[39m \u001b[43mtime\u001b[49m\u001b[38;5;241m.\u001b[39mtime()\n\u001b[1;32m      4\u001b[0m \u001b[38;5;66;03m# Select rows that have year values\u001b[39;00m\n\u001b[1;32m      5\u001b[0m filtered_year_df \u001b[38;5;241m=\u001b[39m df\u001b[38;5;241m.\u001b[39mfilter(col(\u001b[38;5;124m\"\u001b[39m\u001b[38;5;124myear\u001b[39m\u001b[38;5;124m\"\u001b[39m) \u001b[38;5;241m!=\u001b[39m \u001b[38;5;241m0\u001b[39m)\n",
      "\u001b[0;31mNameError\u001b[0m: name 'time' is not defined"
     ]
    }
   ],
   "source": [
    "# Plot and compute time\n",
    "start = time.time()\n",
    "\n",
    "# Select rows that have year values\n",
    "filtered_year_df = df.filter(col(\"year\") != 0)\n",
    "\n",
    "# Group by year and compute average song length\n",
    "trend_df = filtered_year_df.groupBy(\"year\").agg(avg(\"duration\").alias(\"average_length\"))\n",
    "\n",
    "# Pandas for plotting\n",
    "trend_pd = trend_df.toPandas().sort_values(by=\"year\")\n",
    "\n",
    "# Plot mean times over the years\n",
    "plt.figure(figsize=(12, 6))\n",
    "plt.plot(trend_pd[\"year\"], trend_pd[\"average_length\"], marker='o', linestyle='-')\n",
    "plt.xlabel(\"Year\")\n",
    "plt.ylabel(\"Average Song Length (seconds)\")\n",
    "plt.title(\"Average Song Length Over the Years\")\n",
    "plt.grid()\n",
    "plt.show()\n",
    "\n",
    "final = time.time() - start\n",
    "print(f\"Time read:{final}\")"
   ]
  },
  {
   "cell_type": "code",
   "execution_count": 11,
   "id": "2536b2d5-b5f2-4d7e-8249-1bb4e0dcf6c2",
   "metadata": {},
   "outputs": [],
   "source": [
    "spark_session.stop()"
   ]
  },
  {
   "cell_type": "code",
   "execution_count": null,
   "id": "319e5f41-00b0-4cc3-b055-479dc6f648ce",
   "metadata": {},
   "outputs": [],
   "source": []
  }
 ],
 "metadata": {
  "kernelspec": {
   "display_name": "Python 3 (ipykernel)",
   "language": "python",
   "name": "python3"
  },
  "language_info": {
   "codemirror_mode": {
    "name": "ipython",
    "version": 3
   },
   "file_extension": ".py",
   "mimetype": "text/x-python",
   "name": "python",
   "nbconvert_exporter": "python",
   "pygments_lexer": "ipython3",
   "version": "3.10.12"
  }
 },
 "nbformat": 4,
 "nbformat_minor": 5
}
