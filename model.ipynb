{
 "cells": [
  {
   "cell_type": "code",
   "execution_count": 4,
   "id": "9c6dba19-2ae0-4c78-ad64-31ba6c6ecd34",
   "metadata": {},
   "outputs": [],
   "source": [
    "from pyspark.sql import SparkSession\n",
    "from pyspark.sql.functions import col, round\n",
    "from pyspark.ml.feature import VectorAssembler, StringIndexer, MinMaxScaler\n",
    "from pyspark.ml.regression import LinearRegression\n",
    "\n",
    "spark_session = SparkSession \\\n",
    "    .builder \\\n",
    "    .master(\"spark://192.168.2.156:7077\") \\\n",
    "    .appName(\"ProjectGR25Predict\") \\\n",
    "    .config(\"spark.eventLog.enabled\", \"false\") \\\n",
    "    .config(\"spark.dynamicAllocation.enabled\", True) \\\n",
    "    .config(\"spark.dynamicAllocation.minExecutors\", 1) \\\n",
    "    .config(\"spark.dynamicAllocation.maxExecutors\", 1) \\\n",
    "    .config(\"spark.dynamicAllocation.initialExecutors\", 1) \\\n",
    "    .config(\"spark.dynamicAllocation.shuffleTracking.enabled\", True) \\\n",
    "    .config(\"spark.shuffle.service.enabled\", False) \\\n",
    "    .config(\"spark.dynamicAllocation.executorIdleTimeout\", \"30s\") \\\n",
    "    .config(\"spark.executor.cores\", 6) \\\n",
    "    .config(\"spark.driver.cores\", 2) \\\n",
    "    .config(\"spark.driver.port\", 9999) \\\n",
    "    .config(\"spark.blockManager.port\", 10005) \\\n",
    "    .getOrCreate()\n",
    "\n",
    "spark_context = spark_session.sparkContext\n",
    "spark_context.setLogLevel(\"ERROR\")\n"
   ]
  },
  {
   "cell_type": "code",
   "execution_count": 2,
   "id": "f5cea11a-5e8c-47db-a07d-0bb130b484e1",
   "metadata": {},
   "outputs": [
    {
     "name": "stderr",
     "output_type": "stream",
     "text": [
      "                                                                                "
     ]
    }
   ],
   "source": [
    "# Read the dataset from hdfs\n",
    "df = spark_session.read.csv(\"hdfs://192.168.2.92:9000/spark-data/MillionSongSubset.csv\", header=True, inferSchema=True)"
   ]
  },
  {
   "cell_type": "code",
   "execution_count": 3,
   "id": "a8ed609f-d4bc-4053-975f-13f80ea21f47",
   "metadata": {},
   "outputs": [],
   "source": [
    "# Select relevant features and separate the entries with year\n",
    "df_0 = df.select(\"tempo\", \"loudness\", \"duration\", \"key\", \"mode\", \"year\").filter(col(\"year\") == 0)\n",
    "df = df.select(\"tempo\", \"loudness\", \"duration\", \"key\", \"mode\", \"year\").filter(col(\"year\") > 0)  \n",
    "\n",
    "# Assemble for defining feature vector\n",
    "features = [\"tempo\", \"loudness\", \"duration\", \"key\", \"mode\"]\n",
    "assembler_model = VectorAssembler(inputCols=features, outputCol=\"features\")\n",
    "\n",
    "# Select target (year) and the rest as features\n",
    "df_trans = assembler_model.transform(df).select(\"features\", \"year\")"
   ]
  },
  {
   "cell_type": "code",
   "execution_count": 9,
   "id": "60e118f9-076e-4e54-8909-ff82db540e4e",
   "metadata": {},
   "outputs": [
    {
     "name": "stdout",
     "output_type": "stream",
     "text": [
      "Model Predictions\n",
      "+--------------------+----+--------------+\n",
      "|     normalized_data|year|predicted_year|\n",
      "+--------------------+----+--------------+\n",
      "|[0.0,0.4316688693...|1981|        1985.0|\n",
      "|[0.0,0.8118140550...|1991|        1999.0|\n",
      "|[0.0,0.8488191691...|2003|        2001.0|\n",
      "|[0.12760701569911...|1981|        1977.0|\n",
      "|[0.14861390846499...|1936|        1998.0|\n",
      "|[0.15611747468851...|1999|        1998.0|\n",
      "|[0.16439420590156...|2005|        1997.0|\n",
      "|[0.17592596172060...|2008|        1999.0|\n",
      "|[0.20075615535977...|2006|        1991.0|\n",
      "|[0.20377149881899...|2006|        1998.0|\n",
      "|[0.20462584613243...|1995|        1995.0|\n",
      "|[0.21352110933712...|1953|        1996.0|\n",
      "|[0.21501331776694...|2003|        1995.0|\n",
      "|[0.21991131797569...|2007|        1997.0|\n",
      "|[0.22571392122221...|1993|        1996.0|\n",
      "|[0.23230515275807...|2006|        1998.0|\n",
      "|[0.23626762332948...|2005|        1993.0|\n",
      "|[0.25054798068633...|2009|        1998.0|\n",
      "|[0.25845359270441...|1971|        1992.0|\n",
      "|[0.26078081932293...|2004|        1996.0|\n",
      "+--------------------+----+--------------+\n",
      "only showing top 20 rows\n",
      "\n",
      "Average year penalty: 10.97\n"
     ]
    }
   ],
   "source": [
    "# Use minimax sclaer to normalize data\n",
    "normalizing_scaler = MinMaxScaler(inputCol=\"features\", outputCol=\"normalized_data\")\n",
    "normalizing_model = normalizing_scaler.fit(df_trans)\n",
    "df_normal = normalizing_model.transform(df_trans).select(\"normalized_data\", \"year\")\n",
    "\n",
    "# Split data into train and test\n",
    "train_data, test_data = df_normal.randomSplit([0.8, 0.2], seed=42)\n",
    "\n",
    "# Define model and train\n",
    "model = LinearRegression(featuresCol=\"normalized_data\", labelCol=\"year\")\n",
    "trained_model = model.fit(train_data)\n",
    "\n",
    "# Predict and round prediction to have integer number\n",
    "predictions = trained_model.transform(test_data)\n",
    "df_rounded_predictions = predictions.withColumn(\"predicted_year\", round(predictions[\"prediction\"]))\n",
    "\n",
    "# Print some prediction\n",
    "print(\"Model Predictions\")\n",
    "df_rounded_predictions.select(\"normalized_data\", \"year\", \"predicted_year\").show(20)\n",
    "\n",
    "# Evaluate model \n",
    "model_evaluation = trained_model.evaluate(test_data)\n",
    "print(f\"Average year penalty: {model_evaluation.rootMeanSquaredError:.2f}\")"
   ]
  },
  {
   "cell_type": "code",
   "execution_count": 15,
   "id": "554dd474-2df7-4cf4-b037-a5682a075c0b",
   "metadata": {},
   "outputs": [
    {
     "name": "stdout",
     "output_type": "stream",
     "text": [
      "+--------------------+--------------+\n",
      "|     normalized_data|predicted_year|\n",
      "+--------------------+--------------+\n",
      "|[0.46425851544590...|        1997.0|\n",
      "|[0.47192831214216...|        1995.0|\n",
      "|[0.46420825972158...|        2000.0|\n",
      "|[0.41305179818847...|        1995.0|\n",
      "|[0.82110508471955...|        1998.0|\n",
      "|[0.46384873800144...|        1999.0|\n",
      "|[0.52798277388403...|        1994.0|\n",
      "|[0.38908754933759...|        1992.0|\n",
      "|[0.37019526281810...|        1997.0|\n",
      "|[0.39758463257266...|        1986.0|\n",
      "|[0.47644359568110...|        1999.0|\n",
      "|[0.55479613572138...|        2000.0|\n",
      "|[0.47890226034784...|        2000.0|\n",
      "|[0.59034626194056...|        1992.0|\n",
      "|[0.46922996632866...|        1994.0|\n",
      "|[0.61242012239201...|        1997.0|\n",
      "|[0.60411246457937...|        1990.0|\n",
      "|[0.78357565612713...|        1990.0|\n",
      "|[0.42117389640362...|        1982.0|\n",
      "|[0.38680671261843...|        2000.0|\n",
      "+--------------------+--------------+\n",
      "only showing top 20 rows\n",
      "\n"
     ]
    }
   ],
   "source": [
    "# Predict year for missing entries\n",
    "df_0_transformed = assembler_model.transform(df_0).select(\"features\")\n",
    "\n",
    "# Normalize\n",
    "df_0_normalized = normalizing_model.transform(df_0_transformed).select(\"normalized_data\")\n",
    "\n",
    "# Predict and round prediction to have integer number\n",
    "predictions_0 = trained_model.transform(df_0_normalized)\n",
    "df_prediction_0 = predictions_0.withColumn(\"predicted_year\", round(predictions_0[\"prediction\"]))\n",
    "\n",
    "# Print some predictions\n",
    "df_prediction_0.select(\"normalized_data\", \"predicted_year\").show(20)"
   ]
  },
  {
   "cell_type": "code",
   "execution_count": 16,
   "id": "11ee1afe-c9c8-4e69-ac64-83e9f21d1d37",
   "metadata": {},
   "outputs": [],
   "source": [
    "spark_context.stop()"
   ]
  },
  {
   "cell_type": "code",
   "execution_count": null,
   "id": "5f546390-df8a-42ae-b82d-837d7866cf56",
   "metadata": {},
   "outputs": [],
   "source": []
  }
 ],
 "metadata": {
  "kernelspec": {
   "display_name": "Python 3 (ipykernel)",
   "language": "python",
   "name": "python3"
  },
  "language_info": {
   "codemirror_mode": {
    "name": "ipython",
    "version": 3
   },
   "file_extension": ".py",
   "mimetype": "text/x-python",
   "name": "python",
   "nbconvert_exporter": "python",
   "pygments_lexer": "ipython3",
   "version": "3.10.12"
  }
 },
 "nbformat": 4,
 "nbformat_minor": 5
}
